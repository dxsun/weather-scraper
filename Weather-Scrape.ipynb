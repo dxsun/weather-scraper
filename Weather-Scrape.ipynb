{
 "cells": [
  {
   "cell_type": "code",
   "execution_count": 44,
   "metadata": {
    "collapsed": true
   },
   "outputs": [],
   "source": [
    "from bs4 import BeautifulSoup as BS \n",
    "import requests as req \n",
    "\n",
    "# page = req.get('http://forecast.weather.gov/MapClick.php?lat=37.7772&lon=-122.4168#.WWPeLYjyvZs')\n",
    "page = req.get('https://weather.com/weather/tenday/l/USCA0987:1:US')\n",
    "\n",
    "soup = BS(page.content, 'html.parser')\n",
    "# containers = soup.find_all('div', class_='tombstone-container')\n",
    "dates = soup.find_all('span', class_='day-detail clearfix')\n",
    "days = soup.find_all('span', class_='date-time')\n",
    "# for date in dates:\n",
    "# \tprint(date)\n",
    "# for day in days:\n",
    "# \tprint(day)\n",
    "\n",
    "bodies = soup.find_all('tr', class_='clickable closed')"
   ]
  },
  {
   "cell_type": "code",
   "execution_count": 45,
   "metadata": {},
   "outputs": [],
   "source": [
    "from tabulate import tabulate\n",
    "import unicodedata"
   ]
  },
  {
   "cell_type": "code",
   "execution_count": 46,
   "metadata": {
    "collapsed": true
   },
   "outputs": [],
   "source": [
    "headers = ['Day', 'Date', 'Description', 'High/Low', 'Precipitation', 'Wind', 'Humidity']\n",
    "data = []"
   ]
  },
  {
   "cell_type": "code",
   "execution_count": 47,
   "metadata": {},
   "outputs": [],
   "source": [
    "for body in bodies:\n",
    "    date_time = body.find('span', class_='date-time').get_text()\n",
    "    day_detail = body.find('span', class_='day-detail clearfix').get_text()\n",
    "    description = body.find('td', class_='description').find('span').get_text()\n",
    "    temp_high = body.find('td', class_='temp').find_all('span')[0].get_text()\n",
    "    temp_low = body.find('td', class_='temp').find_all('span')[2].get_text()\n",
    "    precip = unicodedata.normalize(\"NFKD\", body.find('td', class_='precip').get_text())\n",
    "    wind = body.find('td', class_='wind').get_text()\n",
    "    humid = body.find('td', class_='humidity').get_text()\n",
    "    \n",
    "    data.append([date_time, day_detail, description, temp_high + '/' + temp_low, str(precip), wind, humid])\n",
    "\n",
    "    \n",
    "    \n",
    "    "
   ]
  },
  {
   "cell_type": "code",
   "execution_count": 49,
   "metadata": {},
   "outputs": [
    {
     "name": "stdout",
     "output_type": "stream",
     "text": [
      "San Francisco's weather for upcoming days\n",
      "\n",
      "\n",
      "Day    Date    Description    High/Low    Precipitation    Wind        Humidity\n",
      "-----  ------  -------------  ----------  ---------------  ----------  ----------\n",
      "Today  JUL 13  Mostly Sunny   64°/53°     0%               W 17 mph    69%\n",
      "Fri    JUL 14  Mostly Sunny   65°/53°     20%              WSW 17 mph  78%\n",
      "Sat    JUL 15  Sunny          70°/55°     10%              W 17 mph    71%\n",
      "Sun    JUL 16  Sunny/Wind     70°/54°     10%              W 20 mph    61%\n",
      "Mon    JUL 17  Sunny/Wind     67°/54°     10%              W 21 mph    68%\n",
      "Tue    JUL 18  Sunny          68°/54°     10%              W 18 mph    68%\n",
      "Wed    JUL 19  Sunny          71°/54°     10%              W 18 mph    68%\n",
      "Thu    JUL 20  Sunny          73°/55°     10%              W 18 mph    66%\n",
      "Fri    JUL 21  Sunny          72°/54°     10%              W 17 mph    66%\n",
      "Sat    JUL 22  Sunny          69°/54°     10%              W 17 mph    69%\n",
      "Sun    JUL 23  Sunny          74°/54°     0%               W 14 mph    62%\n",
      "Mon    JUL 24  Sunny          73°/55°     0%               WSW 14 mph  64%\n",
      "Tue    JUL 25  Sunny          73°/56°     0%               WSW 14 mph  63%\n",
      "Wed    JUL 26  Sunny          75°/57°     0%               W 14 mph    60%\n",
      "Thu    JUL 27  Sunny          76°/58°     0%               W 14 mph    58%\n"
     ]
    }
   ],
   "source": [
    "print(\"San Francisco's weather for upcoming days\\n\\n\")\n",
    "print(tabulate(data, headers))"
   ]
  },
  {
   "cell_type": "code",
   "execution_count": null,
   "metadata": {
    "collapsed": true
   },
   "outputs": [],
   "source": []
  }
 ],
 "metadata": {
  "kernelspec": {
   "display_name": "Python 3",
   "language": "python",
   "name": "python3"
  },
  "language_info": {
   "codemirror_mode": {
    "name": "ipython",
    "version": 3
   },
   "file_extension": ".py",
   "mimetype": "text/x-python",
   "name": "python",
   "nbconvert_exporter": "python",
   "pygments_lexer": "ipython3",
   "version": "3.5.3"
  }
 },
 "nbformat": 4,
 "nbformat_minor": 2
}
